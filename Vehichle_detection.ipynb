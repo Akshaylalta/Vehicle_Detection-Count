{
 "cells": [
  {
   "cell_type": "code",
   "execution_count": 56,
   "metadata": {},
   "outputs": [],
   "source": [
    "#import libraries\n",
    "import cv2\n",
    "import numpy as np\n"
   ]
  },
  {
   "cell_type": "code",
   "execution_count": 57,
   "metadata": {},
   "outputs": [],
   "source": [
    "#read harcascade files\n",
    "car_cascade=cv2.CascadeClassifier('/home/akshay/Videos/Computer_vision/opencv/Project/vehichle_detection/cars.xml')\n",
    "bike_cascade=cv2.CascadeClassifier('/home/akshay/Videos/Computer_vision/opencv/Project/vehichle_detection/two_wheeler.xml')\n",
    "bus_cascade=cv2.CascadeClassifier('/home/akshay/Videos/Computer_vision/opencv/Project/vehichle_detection/Bus_front.xml')"
   ]
  },
  {
   "cell_type": "code",
   "execution_count": 58,
   "metadata": {},
   "outputs": [
    {
     "data": {
      "text/plain": [
       "< cv2.CascadeClassifier 0x7fb792189eb0>"
      ]
     },
     "execution_count": 58,
     "metadata": {},
     "output_type": "execute_result"
    }
   ],
   "source": [
    "car_cascade\n",
    "bike_cascade\n",
    "bus_cascade"
   ]
  },
  {
   "cell_type": "code",
   "execution_count": 59,
   "metadata": {},
   "outputs": [
    {
     "name": "stdout",
     "output_type": "stream",
     "text": [
      "bikes = 5\n",
      "buses = 1\n",
      "cars = 8\n"
     ]
    }
   ],
   "source": [
    "#read video\n",
    "video=cv2.VideoCapture('/home/akshay/Videos/Computer_vision/opencv/Project/vehichle_detection/WhatsApp Video 2023-03-05 at 6.42.25 PM.mp4')\n",
    "\n",
    "bus=0\n",
    "bike=0\n",
    "car=0\n",
    "\n",
    "while True:\n",
    "    success,frame=video.read()\n",
    "    \n",
    "    if not success:\n",
    "        break\n",
    "   #labels\n",
    "    cv2.rectangle(frame,(0,0),(180,94),(255,255,255),-1)\n",
    "    cv2.putText(frame,'bikes =',(10,25),cv2.FONT_HERSHEY_COMPLEX_SMALL,1.5,(0,0,0),2)\n",
    "    cv2.putText(frame,'cars  =',(10,55),cv2.FONT_HERSHEY_COMPLEX_SMALL,1.5,(0,0,0),2)\n",
    "    cv2.putText(frame,'buses =',(10,85),cv2.FONT_HERSHEY_COMPLEX_SMALL,1.5,(0,0,0),2)\n",
    "\n",
    "    #convert to gray scale & blur\n",
    "    gray=cv2.cvtColor(frame,cv2.COLOR_BGR2GRAY)\n",
    "    blur=cv2.GaussianBlur(gray,(3,3),5)\n",
    "    \n",
    "    #counting line\n",
    "    cv2.line(frame,(0,280),(1000,280),(255,0,0),2)\n",
    "\n",
    "    #detect bike\n",
    "    bikes=bike_cascade.detectMultiScale(blur,scaleFactor=1.04,minNeighbors=2)\n",
    "\n",
    "    for x,y,w,h in bikes:\n",
    "\n",
    "        bikeC=int(y+h/2)\n",
    "\n",
    "        if (bikeC<281 and bikeC>277):\n",
    "            bike=bike+1\n",
    "            cv2.line(frame,(0,280),(1000,280),(0,0,255),5)\n",
    "\n",
    "        cv2.rectangle(frame,(x,y),(x+w,y+h),(255,0,0),2)\n",
    "        cv2.putText(frame,'bike',(x,y),cv2.FONT_HERSHEY_PLAIN,2,(0,0,0),2)\n",
    "        \n",
    "\n",
    "    cv2.putText(frame,str(bike),(150,25),cv2.FONT_HERSHEY_COMPLEX_SMALL,1.5,(0,0,0),2)\n",
    "\n",
    "\n",
    "    #detect car\n",
    "    cars=car_cascade.detectMultiScale(blur,1.22,4)\n",
    "    \n",
    "    for x,y,w,h in cars:\n",
    "\n",
    "        carC=int(y+h/2)\n",
    "\n",
    "        if (carC<278 and carC>270):\n",
    "            car+=1\n",
    "            cv2.line(frame,(0,280),(1000,280),(0,0,255),5)\n",
    "\n",
    "        cv2.rectangle(frame,(x,y),(x+w,y+h),(0,255,0),2)\n",
    "        cv2.putText(frame,'car',(x,y),cv2.FONT_HERSHEY_PLAIN,2,(255,255,255),2)\n",
    "        \n",
    "    cv2.putText(frame,str(car),(150,55),cv2.FONT_HERSHEY_COMPLEX_SMALL,1.5,(0,0,0),2)\n",
    "    \n",
    "\n",
    "    #detect bus\n",
    "    buses=bus_cascade.detectMultiScale(blur,1.05,3)\n",
    "    \n",
    "    for x,y,w,h in buses:\n",
    "\n",
    "        busC=y+h/2\n",
    "\n",
    "        if (busC<280 and busC>273):\n",
    "            bus+=1\n",
    "            cv2.line(frame,(0,280),(1000,280),(0,0,255),5)\n",
    "\n",
    "        cv2.rectangle(frame,(x,y),(x+w,y+h),(0,0,255),2)\n",
    "        cv2.putText(frame,'bus',(x,y),cv2.FONT_HERSHEY_PLAIN,2,(0,250,250),2)\n",
    "    \n",
    "    cv2.putText(frame,str(bus),(155,85),cv2.FONT_HERSHEY_COMPLEX_SMALL,1.5,(0,0,0),2)\n",
    "\n",
    "    cv2.imshow('video',frame)\n",
    "\n",
    "    if cv2.waitKey(1) & 0xFF==27:\n",
    "        break\n",
    "\n",
    "print('bikes =',bike)\n",
    "print('buses =',bus)\n",
    "print('cars =',car)\n",
    "\n",
    "video.release()\n",
    "cv2.destroyAllWindows()"
   ]
  },
  {
   "cell_type": "code",
   "execution_count": null,
   "metadata": {},
   "outputs": [],
   "source": []
  }
 ],
 "metadata": {
  "kernelspec": {
   "display_name": "Python 3",
   "language": "python",
   "name": "python3"
  },
  "language_info": {
   "codemirror_mode": {
    "name": "ipython",
    "version": 3
   },
   "file_extension": ".py",
   "mimetype": "text/x-python",
   "name": "python",
   "nbconvert_exporter": "python",
   "pygments_lexer": "ipython3",
   "version": "3.8.10"
  },
  "orig_nbformat": 4,
  "vscode": {
   "interpreter": {
    "hash": "916dbcbb3f70747c44a77c7bcd40155683ae19c65e1c03b4aa3499c5328201f1"
   }
  }
 },
 "nbformat": 4,
 "nbformat_minor": 2
}
